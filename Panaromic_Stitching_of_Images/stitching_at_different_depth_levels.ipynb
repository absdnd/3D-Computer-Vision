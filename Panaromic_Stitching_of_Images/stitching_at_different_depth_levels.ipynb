{
 "cells": [
  {
   "cell_type": "code",
   "execution_count": 1,
   "metadata": {},
   "outputs": [],
   "source": [
    "import cv2\n",
    "from numpy import *\n",
    "from scipy import ndimage\n",
    "from copy import deepcopy"
   ]
  },
  {
   "cell_type": "code",
   "execution_count": 22,
   "metadata": {},
   "outputs": [
    {
     "name": "stdout",
     "output_type": "stream",
     "text": [
      "(360, 640)\n"
     ]
    }
   ],
   "source": [
    "scaling = 1\n",
    "img1 = cv2.imread('im_0.jpg')\n",
    "img2 = cv2.imread('im_1.jpg')\n",
    "img1D = cv2.imread('depth_0.jpg',0)\n",
    "img2D = cv2.imread('depth_1.jpg',0)\n",
    "\n",
    "depth1 = cv2.resize(img1D,(0,0),fx = scaling, fy = scaling)\n",
    "depth2 = cv2.resize(img2D,(0,0), fx = scaling, fy = scaling)\n",
    "img1 = cv2.resize(img1,(0,0), fx = scaling, fy = scaling)\n",
    "img2 = cv2.resize(img2,(0,0), fx = scaling, fy = scaling)\n",
    "\n",
    "gray1 = cv2.cvtColor(img1,cv2.COLOR_BGR2GRAY)\n",
    "gray2 = cv2.cvtColor(img2,cv2.COLOR_BGR2GRAY)\n",
    "print shape(gray1)\n",
    "\n",
    "\n"
   ]
  },
  {
   "cell_type": "code",
   "execution_count": 23,
   "metadata": {},
   "outputs": [],
   "source": [
    "def createdict(depth1):\n",
    "    d = zeros([256])\n",
    "    rows,cols = depth1.shape[0],depth1.shape[1]\n",
    "    for i in range(rows):\n",
    "        for j in range(cols): \n",
    "            d[depth1[i,j]]+=1\n",
    "            \n",
    "        \n",
    "    no = (rows*cols)//5\n",
    "    return d,no\n",
    "    \n",
    "\n",
    "\n",
    "        \n",
    "\n",
    "    "
   ]
  },
  {
   "cell_type": "code",
   "execution_count": 24,
   "metadata": {},
   "outputs": [],
   "source": [
    "def interpolate(img):\n",
    "    rows,cols = img.shape[0],img.shape[1]\n",
    "    dst = img.copy()\n",
    "    for i in range(1,rows-1): \n",
    "        for j in range(1,cols-1): \n",
    "            if(img[i,j].tolist()==[0,0,0]):\n",
    "                isolate = img[i-1:i+2,j-1:j+2].reshape(9,3)\n",
    "                for m in range(9): \n",
    "                    if(isolate[m].tolist()!=[0,0,0]):\n",
    "                        dst[i,j] = isolate[m]\n",
    "   \n",
    "    return dst.astype('uint8')\n",
    "    "
   ]
  },
  {
   "cell_type": "code",
   "execution_count": 25,
   "metadata": {},
   "outputs": [],
   "source": [
    "def quantize(img,l,depth1):\n",
    "    \n",
    "    l = [50,100,150,200]\n",
    "    rows,cols = depth1.shape[0],depth1.shape[1]\n",
    "    img_dis_1 = zeros([rows,cols,3],dtype = 'uint8')\n",
    "    img_dis_2 = zeros([rows,cols,3],dtype = 'uint8')\n",
    "    img_dis_3 = zeros([rows,cols,3],dtype = 'uint8')\n",
    "    img_dis_4 = zeros([rows,cols,3],dtype = 'uint8')\n",
    "    img_dis_5 = zeros([rows,cols,3],dtype = 'uint8')\n",
    "    for i in range(rows):\n",
    "        for j in range(cols): \n",
    "            if(depth1[i,j]<l[0]):\n",
    "                img_dis_1[i,j] = img1[i,j]\n",
    "            if(depth1[i,j]>l[0] and depth1[i,j]<l[1]):\n",
    "                img_dis_2[i,j] = img1[i,j]\n",
    "            if(depth1[i,j]>l[1] and depth1[i,j]<l[2]): \n",
    "                img_dis_3[i,j] = img1[i,j]\n",
    "            if(depth1[i,j]>l[2] and depth1[i,j]<l[3]):\n",
    "                img_dis_4[i,j] = img1[i,j]\n",
    "            if(depth1[i,j]>l[3]): \n",
    "                img_dis_5[i,j] = img1[i,j]\n",
    "                \n",
    "                \n",
    "        \n",
    "    return img_dis_1,img_dis_2,img_dis_3,img_dis_4,img_dis_5\n",
    "    "
   ]
  },
  {
   "cell_type": "code",
   "execution_count": null,
   "metadata": {},
   "outputs": [],
   "source": [
    "\n",
    "            "
   ]
  },
  {
   "cell_type": "code",
   "execution_count": null,
   "metadata": {},
   "outputs": [],
   "source": []
  },
  {
   "cell_type": "code",
   "execution_count": null,
   "metadata": {},
   "outputs": [],
   "source": []
  },
  {
   "cell_type": "code",
   "execution_count": 26,
   "metadata": {},
   "outputs": [],
   "source": [
    "def createImage(final,img,val): \n",
    "    rows,cols = img.shape[0],img.shape[1]\n",
    "    out = zeros([rows,cols,3],dtype = 'uint8')\n",
    "    for i in range(rows):\n",
    "        for j in range(cols): \n",
    "            if(final[i,j]==val):\n",
    "                out[i,j] = img[i,j]\n",
    "                \n",
    "    return out"
   ]
  },
  {
   "cell_type": "code",
   "execution_count": 27,
   "metadata": {},
   "outputs": [],
   "source": [
    "def calculatehomography(rand_pts,src,dst): \n",
    "   \n",
    "    A = zeros([8,9])\n",
    "    for i in range(4):\n",
    "            pt = int(rand_pts[i])\n",
    "            s = src[pt]\n",
    "            d = dst[pt]\n",
    "            A[2*i]   = [-s[0],-s[1],-s[2],0,0,0,d[0]*s[0],d[0]*s[1],d[0]*s[2]]\n",
    "            A[2*i+1] = [0,0,0,-s[0],-s[1],-s[2],d[1]*s[0],d[1]*s[1],d[1]*s[2]]\n",
    "            \n",
    "    u, s, v = linalg.svd(A)\n",
    "\n",
    "    #reshape the min singular value into a 3 by 3 matrix\n",
    "    h = reshape(v[8], (3, 3))\n",
    "\n",
    "    #normalize and now we have h\n",
    "    h = (1/h.item(8)) * h\n",
    "    return h\n",
    "    "
   ]
  },
  {
   "cell_type": "code",
   "execution_count": null,
   "metadata": {},
   "outputs": [],
   "source": []
  },
  {
   "cell_type": "code",
   "execution_count": null,
   "metadata": {},
   "outputs": [],
   "source": []
  },
  {
   "cell_type": "code",
   "execution_count": 28,
   "metadata": {},
   "outputs": [],
   "source": [
    "def obtainDistanceTransform(img): \n",
    "    rows = img.shape[0]\n",
    "    cols = img.shape[1]\n",
    "    ret = zeros([rows,cols,3])\n",
    "    a =  ones([rows,cols])\n",
    "    b = zeros([rows+2,cols+2])\n",
    "    b[1:-1,1:-1] = a\n",
    "    \n",
    "    c = ndimage.distance_transform_edt(b)\n",
    "    d = c[1:-1,1:-1]\n",
    "    [ret[:,:,0],ret[:,:,1],ret[:,:,2]] = [d,d,d] \n",
    "\n",
    "    return ret"
   ]
  },
  {
   "cell_type": "code",
   "execution_count": 29,
   "metadata": {},
   "outputs": [],
   "source": [
    "def StitchRGBD(img1,l,depth1,img2):\n",
    "    \n",
    "    img_dis_1,img_dis_2,img_dis_3,img_dis_4,img_dis_5 = quantize(img1,l,depth1)\n",
    "    \n",
    "    H1,H2,H3,H4,H5 = HomoD(img2,img1,depth1,3,l)\n",
    "\n",
    "   \n",
    "\n",
    "    dist1 = obtainDistanceTransform(img_dis_2)\n",
    "    dist2 = obtainDistanceTransform(img_dis_2) \n",
    "    dist3 = obtainDistanceTransform(img_dis_3)\n",
    "    dist4 = obtainDistanceTransform(img_dis_4)\n",
    "    dist5 = obtainDistanceTransform(img_dis_5)\n",
    "\n",
    "\n",
    "    src5,des5 = warp_image(img_dis_5,H5)\n",
    "    src4,des4 = warp_image(img_dis_4,H4)\n",
    "    src3,des3 = warp_image(img_dis_3,H3)\n",
    "    src2,des2 = warp_image(img_dis_2,H2)\n",
    "    src1,des1 = warp_image(img_dis_1,H2)\n",
    "\n",
    "\n",
    "\n",
    "    mini_col = 0\n",
    "    mini_row = 0\n",
    "    max_row = 0\n",
    "    max_col = 0\n",
    "\n",
    "    for i in range(len(des1)):\n",
    "        col = des1[i][0]\n",
    "        row = des1[i][1]\n",
    "\n",
    "        if(col<mini_col):\n",
    "\n",
    "            mini_col = col\n",
    "\n",
    "        if(col>max_col):\n",
    "\n",
    "            max_col = col\n",
    "\n",
    "        if(row>max_row):\n",
    "\n",
    "            max_row = row\n",
    "\n",
    "        if(row<mini_row):\n",
    "\n",
    "            mini_row = row\n",
    "\n",
    "    for i in range(len(des5)):\n",
    "        col = des5[i][0]\n",
    "        row = des5[i][1]\n",
    "        if(col<mini_col):\n",
    "\n",
    "            mini_col = col\n",
    "\n",
    "        if(col>max_col):\n",
    "\n",
    "            max_col = col\n",
    "\n",
    "        if(row>max_row):\n",
    "\n",
    "            max_row = row\n",
    "\n",
    "        if(row<mini_row):\n",
    "\n",
    "            mini_row = row\n",
    "\n",
    "    for i in range(len(des4)):\n",
    "        col = des4[i][0]\n",
    "        row = des4[i][1]\n",
    "        if(col<mini_col):\n",
    "            mini_col = col\n",
    "        if(col>max_col):\n",
    "            max_col = col\n",
    "        if(row>max_row):\n",
    "            max_row = row\n",
    "        if(row<mini_row):\n",
    "            mini_row = row\n",
    "\n",
    "    for i in range(len(des3)):\n",
    "        col = des3[i][0]\n",
    "        row = des3[i][1]\n",
    "        if(col<mini_col):\n",
    "\n",
    "            mini_col = col\n",
    "\n",
    "        if(col>max_col):\n",
    "\n",
    "            max_col = col\n",
    "\n",
    "        if(row>max_row):\n",
    "\n",
    "            max_row = row\n",
    "\n",
    "        if(row<mini_row):\n",
    "\n",
    "            mini_row = row\n",
    "\n",
    "    for i in range(len(des2)):\n",
    "        col = des2[i][0]\n",
    "        row = des2[i][1]\n",
    "        if(col<mini_col):\n",
    "\n",
    "            mini_col = col\n",
    "\n",
    "        if(col>max_col):\n",
    "\n",
    "            max_col = col\n",
    "\n",
    "        if(row>max_row):\n",
    "\n",
    "            max_row = row\n",
    "\n",
    "        if(row<mini_row):\n",
    "\n",
    "            mini_row = row\n",
    "\n",
    "\n",
    "\n",
    "\n",
    "    final_rows = int(max_row-mini_row)+1\n",
    "    final_cols = int(max_col-mini_col)+1\n",
    "\n",
    "    distance_1 = ones([final_rows,final_cols,3])\n",
    "    distance_2 = ones([final_rows,final_cols,3])\n",
    "    distance_3 = ones([final_rows,final_cols,3])\n",
    "    distance_4 = ones([final_rows,final_cols,3])\n",
    "    distance_5 = ones([final_rows,final_cols,3])\n",
    "\n",
    "    final = zeros([final_rows,final_cols,3])\n",
    "\n",
    "    I1 = zeros([final_rows,final_cols,3])\n",
    "    I2 = zeros([final_rows,final_cols,3])\n",
    "    I3 = zeros([final_rows,final_cols,3])\n",
    "    I4 = zeros([final_rows,final_cols,3])\n",
    "    I5 = zeros([final_rows,final_cols,3])\n",
    "\n",
    "    for i in range(len(des1)):\n",
    "        row = des1[i][1]\n",
    "        col = des1[i][0]\n",
    "        val1 = img_dis_1[int(src1[i][1]),int(src1[i][0])]\n",
    "        val2 = dist1[int(src1[i][1]),int(src1[i][0])]\n",
    "        distance_1[row-mini_row,col-mini_col] = val2\n",
    "        I1[row-mini_row,col-mini_col] = val1\n",
    "        final[row-mini_row,col-mini_col] = val1\n",
    "\n",
    "\n",
    "    for i in range(len(des5)):\n",
    "        row = des5[i][1]\n",
    "        col = des5[i][0]\n",
    "        val1 = img_dis_5[int(src5[i][1]),int(src5[i][0])]\n",
    "        val2 = dist5[int(src5[i][1]),int(src5[i][0])]\n",
    "        distance_5[row-mini_row,col-mini_col] = val2\n",
    "        I5[row-mini_row,col-mini_col] = val1\n",
    "        final[row-mini_row,col-mini_col] = val1\n",
    "\n",
    "    for i in range(len(des4)):\n",
    "        row = des4[i][1]\n",
    "        col = des4[i][0]\n",
    "        val1 = img_dis_4[int(src4[i][1]),int(src4[i][0])]\n",
    "        val2 = dist4[int(src4[i][1]),int(src4[i][0])]\n",
    "        distance_4[row-mini_row,col-mini_col] = val2\n",
    "        I4[row-mini_row,col-mini_col] = val1\n",
    "        final[row-mini_row,col-mini_col] = val1\n",
    "\n",
    "    for i in range(len(des3)):\n",
    "        row = des3[i][1]\n",
    "        col = des3[i][0]\n",
    "        val1 = img_dis_3[int(src3[i][1]),int(src3[i][0])]\n",
    "        val2 = dist3[int(src3[i][1]),int(src3[i][0])]\n",
    "        distance_3[row-mini_row,col-mini_col] = val2\n",
    "        I3[row-mini_row,col-mini_col] = val1\n",
    "        final[row-mini_row,col-mini_col] = val1\n",
    "\n",
    "    for i in range(len(des2)):\n",
    "        row = des2[i][1]\n",
    "        col = des2[i][0]\n",
    "        val1 = img_dis_2[int(src2[i][1]),int(src2[i][0])]\n",
    "        val2 = dist2[int(src2[i][1]),int(src2[i][0])]\n",
    "        I2[row-mini_row,col-mini_col] = val1\n",
    "        final[row-mini_row,col-mini_col] = val1\n",
    "        distance_2[row-mini_row,col-mini_col] = val2\n",
    "\n",
    "    I1 = interpolate(I1.astype('uint8'))\n",
    "    #print \"interpolated 1\" \n",
    "    I2 = interpolate(I2.astype('uint8'))\n",
    "    #print \"interpolated 2\"\n",
    "    I3 = interpolate(I3.astype('uint8'))\n",
    "    #print \"interpolated 3\"\n",
    "    I4 = interpolate(I4.astype('uint8'))\n",
    "    #print \"interpolated 4\"\n",
    "    I5 = interpolate(I5.astype('uint8'))\n",
    "    #I_ret = interpolate(final.astype('uint8'))\n",
    "    for i in range(I1.shape[0]): \n",
    "        for j in range(I1.shape[1]):\n",
    "            if(I1[i,j].tolist()!=[0,0,0]):\n",
    "                final[i,j] = I1[i,j]\n",
    "            elif(I2[i,j].tolist()!=[0,0,0]):\n",
    "                final[i,j] = I2[i,j]\n",
    "            elif(I3[i,j].tolist()!=[0,0,0]):\n",
    "                final[i,j] = I3[i,j]\n",
    "            elif(I4[i,j].tolist()!=[0,0,0]):\n",
    "                final[i,j] = I4[i,j]\n",
    "            elif(I5[i,j].tolist()!=[0,0,0]):\n",
    "                final[i,j] = I5[i,j]\n",
    "    \n",
    "    return final\n",
    "\n"
   ]
  },
  {
   "cell_type": "code",
   "execution_count": null,
   "metadata": {},
   "outputs": [],
   "source": []
  },
  {
   "cell_type": "code",
   "execution_count": 30,
   "metadata": {},
   "outputs": [],
   "source": [
    "def calculate_norm(array1,array2): \n",
    "    diff = subtract(array1,array2)\n",
    "    return (diff[0]**2+diff[1]**2+diff[2]**2)**0.5"
   ]
  },
  {
   "cell_type": "code",
   "execution_count": 31,
   "metadata": {},
   "outputs": [],
   "source": [
    "def warp_image(img2,homo):\n",
    "    all_src = []\n",
    "    #print shape(homo)\n",
    "    for i in range(img2.shape[0]):\n",
    "        for j in range(img2.shape[1]): \n",
    "            all_src.append([j,i,1])\n",
    "    all_src = asarray(all_src)\n",
    "    all_src_trans = all_src.T\n",
    "    all_des_trans = normalize(dot(homo,all_src_trans))\n",
    "    all_des = all_des_trans.T\n",
    "    all_des = all_des.astype('int32')\n",
    "    return all_src,all_des"
   ]
  },
  {
   "cell_type": "code",
   "execution_count": 32,
   "metadata": {},
   "outputs": [],
   "source": [
    "def Warped(img1,img2):\n",
    "    src_pts,des_pts = MatchKeypoints(img1,img2)\n",
    "    \n",
    "    H21 = estimatehomography(img1,img2,3)\n",
    "\n",
    "    src2,des2 = warp_image(img2,H21)\n",
    "    \n",
    "    mini_col = 0\n",
    "    mini_row = 0\n",
    "    max_row = 0\n",
    "    max_col = 0\n",
    "    for i in range(len(des2)): \n",
    "        col = des2[i][0]\n",
    "        row = des2[i][1]\n",
    "\n",
    "        if(row<mini_row):\n",
    "            mini_row = row\n",
    "\n",
    "        if(col<mini_col):\n",
    "            mini_col = col\n",
    "\n",
    "        if(row>max_row):\n",
    "            max_row = row\n",
    "\n",
    "        if(col>max_col):\n",
    "            max_col = col\n",
    "\n",
    "   \n",
    "\n",
    "    final_rows = max_row-mini_row+1\n",
    "    final_cols = max_col-mini_col+1\n",
    "    print final_rows,final_cols\n",
    "\n",
    "    final_image = zeros([final_rows,final_cols,3])\n",
    "    I1 = zeros([final_rows,final_cols,3])\n",
    "    I2 = zeros([final_rows,final_cols,3])\n",
    "\n",
    "    \n",
    "    \n",
    "\n",
    "\n",
    "\n",
    "    for i in range(img1.shape[0]):\n",
    "        for j in range(img1.shape[1]):\n",
    "            if(i-mini_row<final_rows and j-mini_col<final_cols):\n",
    "                I1[i-mini_row,j-mini_col] = img1[i,j]\n",
    "                \n",
    "\n",
    "\n",
    "\n",
    "    for i in range(len(des2)):\n",
    "        row = des2[i][1]\n",
    "        col = des2[i][0]\n",
    "        val1 = img2[int(src2[i][1]),int(src2[i][0])]\n",
    "        I2[row-mini_row,col-mini_col] = val1\n",
    "       \n",
    "\n",
    "\n",
    "   \n",
    "    I2 = interpolate(I2.astype('uint8'))\n",
    "    \n",
    "    \n",
    "   \n",
    "    \n",
    "    \n",
    "    return I2"
   ]
  },
  {
   "cell_type": "code",
   "execution_count": 33,
   "metadata": {},
   "outputs": [],
   "source": [
    "def ConvertArray(src_pts,dst_pts): \n",
    "    src = []\n",
    "    des = []\n",
    "    for i in src_pts: \n",
    "        k = i.ravel().tolist()\n",
    "        k.append(1)\n",
    "        src.append(k)\n",
    "\n",
    "    for i in dst_pts: \n",
    "        k = i.ravel().tolist()\n",
    "        k.append(1)\n",
    "        des.append(k)\n",
    "\n",
    "    src = asarray(src)\n",
    "    des = asarray(des)\n",
    "    return src,des\n",
    "\n",
    "\n",
    "\n"
   ]
  },
  {
   "cell_type": "code",
   "execution_count": null,
   "metadata": {},
   "outputs": [],
   "source": []
  },
  {
   "cell_type": "code",
   "execution_count": 34,
   "metadata": {},
   "outputs": [],
   "source": [
    "def findgoodmatches(matches):\n",
    "    good = []\n",
    "    for m,n in matches: \n",
    "        if m.distance<0.75*n.distance:\n",
    "            good.append(m)\n",
    "    return good\n"
   ]
  },
  {
   "cell_type": "code",
   "execution_count": 35,
   "metadata": {},
   "outputs": [],
   "source": [
    "def MatchKeypoints(img1,img2): \n",
    "    gray1 = cv2.cvtColor(img1,cv2.COLOR_BGR2GRAY)\n",
    "    gray2 = cv2.cvtColor(img2,cv2.COLOR_BGR2GRAY)\n",
    "    sift = cv2.xfeatures2d.SIFT_create()\n",
    "    bf = cv2.BFMatcher()\n",
    "    kp1,des1 = sift.detectAndCompute(gray1,None)\n",
    "    kp2,des2 = sift.detectAndCompute(gray2,None)\n",
    "    matches = bf.knnMatch(des2,des1,k=2)\n",
    "    \n",
    "    \n",
    "    good = findgoodmatches(matches)\n",
    "    \n",
    "    \n",
    "    src_pts = float32([kp2[m.queryIdx].pt for m in good]).reshape(-1,1,2)\n",
    "    dst_pts = float32([kp1[m.trainIdx].pt for m in good]).reshape(-1,1,2)\n",
    "    \n",
    "    return src_pts,dst_pts\n",
    "    \n",
    "    "
   ]
  },
  {
   "cell_type": "code",
   "execution_count": 36,
   "metadata": {},
   "outputs": [],
   "source": [
    "def normalize(mat): \n",
    "    if(0 not in mat[-1]):\n",
    "        return mat/mat[-1]\n",
    "    else: \n",
    "        return zeros([3,len(mat[1])])"
   ]
  },
  {
   "cell_type": "code",
   "execution_count": 37,
   "metadata": {},
   "outputs": [],
   "source": [
    "def checkpoint(depth1):\n",
    "    d,no = createdict(depth1)\n",
    "    l = []\n",
    "    sum1 = 0\n",
    "    for i in range(len(d)):\n",
    "        sum1+=d[i]\n",
    "        if(sum1>no):\n",
    "            l.append(i)\n",
    "            sum1 = 0\n",
    "\n",
    "    return l\n",
    "\n"
   ]
  },
  {
   "cell_type": "code",
   "execution_count": 38,
   "metadata": {},
   "outputs": [],
   "source": [
    "def interpolate_dist(img):\n",
    "    rows,cols = img.shape[0],img.shape[1]\n",
    "    dst = img.copy()\n",
    "    for i in range(1,rows-1): \n",
    "        for j in range(1,cols-1): \n",
    "            if(img[i,j].tolist()==[1,1,1]):\n",
    "                isolate = img[i-1:i+2,j-1:j+2].reshape(9,3)\n",
    "                for m in range(9): \n",
    "                    if(isolate[m].tolist()!=[1,1,1]):\n",
    "                        dst[i,j] = isolate[m]\n",
    "   \n",
    "    return dst"
   ]
  },
  {
   "cell_type": "code",
   "execution_count": 39,
   "metadata": {},
   "outputs": [],
   "source": [
    "def ransac(src,dst,threshold):\n",
    "    #First we choose any 4 random points and estimate the homography\n",
    "    \n",
    "    max_cnt = 0\n",
    "    max_inlier = []\n",
    "    number = len(src)\n",
    "    threshold_inliers = int(0.90*len(src))\n",
    "    best_homo = zeros([3,3])\n",
    "    for ite in range(7000):\n",
    "       \n",
    "        rand_pts = random.randint(len(src),size = (4,)) \n",
    "        inliers = []\n",
    "        final = []\n",
    "        H = calculatehomography(rand_pts,src,dst)\n",
    "        transposed_src = src.T\n",
    "        transposed_des = normalize(dot(H,transposed_src))\n",
    "        inliers = []\n",
    "        expected_des = dst.T\n",
    "        distance = calculate_norm(expected_des,transposed_des)\n",
    "        for i in range(len(distance)): \n",
    "            if(distance[i]<threshold):\n",
    "                inliers.append(i)\n",
    "            if(len(inliers)>threshold_inliers): \n",
    "                max_inlier = inliers\n",
    "                max_cnt = len(inliers)\n",
    "                best_homo = H\n",
    "                break\n",
    "            elif(len(inliers)>max_cnt):\n",
    "                max_cnt = len(inliers)\n",
    "                max_inlier = inliers \n",
    "                best_homo = H\n",
    "                \n",
    "    \n",
    "    return best_homo\n",
    "        \n",
    "                \n",
    "    \n",
    "\n",
    "\n",
    "\n",
    "\n",
    "    \n",
    "        \n",
    "                \n",
    "                \n",
    "        \n",
    "        \n",
    "    \n",
    "        \n",
    "    \n",
    "        \n",
    "        \n",
    "    "
   ]
  },
  {
   "cell_type": "code",
   "execution_count": 40,
   "metadata": {},
   "outputs": [],
   "source": [
    "def estimatehomography(img1,img2,threshold):\n",
    "    \n",
    "    src_pts, dst_pts = MatchKeypoints(img1,img2)\n",
    "    src, dst = ConvertArray(src_pts,dst_pts)\n",
    "    homo = ransac(src,dst,threshold)\n",
    "    \n",
    "    return homo\n",
    "    ##Now apply RANSAC on the image. \n",
    "    \n",
    "    \n",
    "    "
   ]
  },
  {
   "cell_type": "code",
   "execution_count": 43,
   "metadata": {},
   "outputs": [],
   "source": [
    "def HomoD(img1,img2,depth2,threshold,l):\n",
    "    \n",
    "    src_pts, dst_pts = MatchKeypoints(img1,img2)\n",
    "    src,des = ConvertArray(src_pts, dst_pts)\n",
    "    des1,src1 = [],[]\n",
    "    des2,src2 = [],[]\n",
    "    des3,src3 = [],[]\n",
    "    des4,src4 = [],[]\n",
    "    des5,src5 = [],[]\n",
    "    for i in range(len(src_pts)):\n",
    "        row = src[i][1]\n",
    "        col = src[i][0]\n",
    "        rowd = des[i][1]\n",
    "        cold = des[i][0]\n",
    "        val = depth2[int(row),int(col)]\n",
    "        if(val<l[0]):\n",
    "            des1.append([cold,rowd,1])\n",
    "            src1.append([col,row,1])\n",
    "        if(val>l[0] and val<l[1]): \n",
    "            des2.append([cold,rowd,1])\n",
    "            src2.append([col,row,1])\n",
    "        if(val>l[1] and val<l[2]):\n",
    "            des3.append([cold,rowd,1])\n",
    "            src3.append([col,row,1])\n",
    "        if(val>l[2] and val<l[3]):\n",
    "            des4.append([cold,rowd,1])\n",
    "            src4.append([col,row,1])\n",
    "        if(val>l[3]):\n",
    "            des5.append([cold,rowd,1])\n",
    "            src5.append([col,row,1]) \n",
    "            \n",
    "    src1,des1 = asarray(src1),asarray(des1)\n",
    "    src2,des2 = asarray(src2),asarray(des2)\n",
    "    src3,des3 = asarray(src3),asarray(des3)\n",
    "    src4,des4 = asarray(src4),asarray(des4)\n",
    "    src5,des5 = asarray(src5),asarray(des5)\n",
    "    homo1 = ransac(src1,des1,threshold)\n",
    "    homo2 = ransac(src2,des2,threshold)\n",
    "    homo3 = ransac(src3,des3,threshold)\n",
    "    homo4 = ransac(src4,des4,threshold)\n",
    "    homo5 = ransac(src5,des5,threshold)\n",
    "    \n",
    "    return homo1,homo2,homo3,homo4,homo5\n"
   ]
  },
  {
   "cell_type": "code",
   "execution_count": null,
   "metadata": {},
   "outputs": [],
   "source": []
  },
  {
   "cell_type": "code",
   "execution_count": 44,
   "metadata": {},
   "outputs": [
    {
     "name": "stdout",
     "output_type": "stream",
     "text": [
      "\n",
      "level 1\n",
      "[[ 8.25464749e-01  1.21598073e-01  5.79487527e+01]\n",
      " [-8.48399823e-02  9.81829460e-01 -3.19637862e+01]\n",
      " [-3.53819850e-04  2.17409998e-04  1.00000000e+00]]\n",
      "\n",
      "level 2\n",
      "[[ 8.91629450e-01  1.50360623e-01  5.12900359e+01]\n",
      " [-7.50556062e-02  1.04154236e+00 -3.98311845e+01]\n",
      " [-2.85796265e-04  3.31709137e-04  1.00000000e+00]]\n",
      "\n",
      "level 3\n",
      "[[ 8.39753266e-01  1.11100450e-01  6.64132336e+01]\n",
      " [-8.77003855e-02  9.77952701e-01 -2.65879566e+01]\n",
      " [-3.20584180e-04  2.34741471e-04  1.00000000e+00]]\n",
      "\n",
      "level 4\n",
      "[[ 7.83137098e-01 -7.16695274e-03  9.82223408e+01]\n",
      " [-5.56974634e-02  8.22393010e-01 -9.24076691e+00]\n",
      " [-2.29729281e-04 -1.03305255e-04  1.00000000e+00]]\n",
      "\n",
      "level 5\n",
      "[[ 3.61896496e-02 -9.16703765e-01  3.39589753e+02]\n",
      " [-4.66330779e-02 -6.40616390e-01  2.61426510e+02]\n",
      " [-1.62601068e-04 -2.49034071e-03  1.00000000e+00]]\n"
     ]
    }
   ],
   "source": [
    "#Q2(d) Obtaining the homography at each of the depth levels. \n",
    "h1,h2,h3,h4,h5 = HomoD(img2,img1,depth1,3,l)\n",
    "\n",
    "print\n",
    "print \"level 1\"\n",
    "print h1\n",
    "print \n",
    "print \"level 2\"\n",
    "print h2\n",
    "print \n",
    "print \"level 3\"\n",
    "print h3\n",
    "print\n",
    "print \"level 4\"\n",
    "print h4\n",
    "print\n",
    "print \"level 5\"\n",
    "print h5"
   ]
  },
  {
   "cell_type": "code",
   "execution_count": null,
   "metadata": {},
   "outputs": [],
   "source": []
  },
  {
   "cell_type": "code",
   "execution_count": 45,
   "metadata": {},
   "outputs": [
    {
     "data": {
      "text/plain": [
       "-1"
      ]
     },
     "execution_count": 45,
     "metadata": {},
     "output_type": "execute_result"
    }
   ],
   "source": [
    "#Q2(e) Obtaining the final warped image\n",
    "\n",
    "l = checkpoint(depth1)\n",
    "final = StitchRGBD(img1,l,depth1,img2)\n",
    "cv2.imshow('final',final.astype('uint8'))\n",
    "cv2.waitKey(0)"
   ]
  },
  {
   "cell_type": "code",
   "execution_count": 47,
   "metadata": {},
   "outputs": [
    {
     "name": "stdout",
     "output_type": "stream",
     "text": [
      "406 756\n"
     ]
    },
    {
     "data": {
      "text/plain": [
       "-1"
      ]
     },
     "execution_count": 47,
     "metadata": {},
     "output_type": "execute_result"
    }
   ],
   "source": [
    "#Q2(f) Comparing results with original. \n",
    "#Warping the results with the original and obtaining\n",
    "\n",
    "final_image = Warped(img2,img1)\n",
    "cv2.imshow('final_image',final_image)\n",
    "cv2.waitKey(0)"
   ]
  },
  {
   "cell_type": "code",
   "execution_count": null,
   "metadata": {},
   "outputs": [],
   "source": []
  },
  {
   "cell_type": "code",
   "execution_count": null,
   "metadata": {},
   "outputs": [],
   "source": []
  },
  {
   "cell_type": "code",
   "execution_count": null,
   "metadata": {},
   "outputs": [],
   "source": []
  },
  {
   "cell_type": "code",
   "execution_count": null,
   "metadata": {},
   "outputs": [],
   "source": [
    "\n"
   ]
  },
  {
   "cell_type": "code",
   "execution_count": null,
   "metadata": {},
   "outputs": [],
   "source": []
  },
  {
   "cell_type": "code",
   "execution_count": null,
   "metadata": {},
   "outputs": [],
   "source": []
  },
  {
   "cell_type": "code",
   "execution_count": null,
   "metadata": {},
   "outputs": [],
   "source": []
  },
  {
   "cell_type": "code",
   "execution_count": null,
   "metadata": {},
   "outputs": [],
   "source": [
    "\n",
    "\n",
    "\n"
   ]
  },
  {
   "cell_type": "code",
   "execution_count": null,
   "metadata": {},
   "outputs": [],
   "source": []
  },
  {
   "cell_type": "code",
   "execution_count": null,
   "metadata": {},
   "outputs": [],
   "source": []
  },
  {
   "cell_type": "code",
   "execution_count": null,
   "metadata": {},
   "outputs": [],
   "source": []
  },
  {
   "cell_type": "code",
   "execution_count": null,
   "metadata": {},
   "outputs": [],
   "source": [
    "\n"
   ]
  },
  {
   "cell_type": "code",
   "execution_count": null,
   "metadata": {},
   "outputs": [],
   "source": []
  },
  {
   "cell_type": "code",
   "execution_count": null,
   "metadata": {
    "scrolled": true
   },
   "outputs": [],
   "source": []
  },
  {
   "cell_type": "code",
   "execution_count": null,
   "metadata": {},
   "outputs": [],
   "source": []
  },
  {
   "cell_type": "code",
   "execution_count": null,
   "metadata": {},
   "outputs": [],
   "source": []
  },
  {
   "cell_type": "code",
   "execution_count": null,
   "metadata": {},
   "outputs": [],
   "source": []
  },
  {
   "cell_type": "code",
   "execution_count": null,
   "metadata": {},
   "outputs": [],
   "source": [
    "\n",
    "    \n",
    "                \n",
    "    "
   ]
  },
  {
   "cell_type": "code",
   "execution_count": null,
   "metadata": {},
   "outputs": [],
   "source": [
    "\n",
    "        "
   ]
  },
  {
   "cell_type": "code",
   "execution_count": null,
   "metadata": {},
   "outputs": [],
   "source": []
  },
  {
   "cell_type": "code",
   "execution_count": null,
   "metadata": {},
   "outputs": [],
   "source": []
  },
  {
   "cell_type": "code",
   "execution_count": null,
   "metadata": {},
   "outputs": [],
   "source": []
  },
  {
   "cell_type": "code",
   "execution_count": null,
   "metadata": {},
   "outputs": [],
   "source": []
  },
  {
   "cell_type": "code",
   "execution_count": null,
   "metadata": {},
   "outputs": [],
   "source": [
    "\n",
    "        \n",
    "    "
   ]
  },
  {
   "cell_type": "code",
   "execution_count": null,
   "metadata": {},
   "outputs": [],
   "source": []
  },
  {
   "cell_type": "code",
   "execution_count": null,
   "metadata": {},
   "outputs": [],
   "source": []
  },
  {
   "cell_type": "code",
   "execution_count": null,
   "metadata": {},
   "outputs": [],
   "source": []
  },
  {
   "cell_type": "code",
   "execution_count": null,
   "metadata": {},
   "outputs": [],
   "source": []
  },
  {
   "cell_type": "code",
   "execution_count": null,
   "metadata": {},
   "outputs": [],
   "source": [
    "\n",
    "    \n",
    "    \n",
    "    \n",
    "    \n",
    "    "
   ]
  },
  {
   "cell_type": "code",
   "execution_count": null,
   "metadata": {},
   "outputs": [],
   "source": []
  },
  {
   "cell_type": "code",
   "execution_count": null,
   "metadata": {},
   "outputs": [],
   "source": []
  },
  {
   "cell_type": "code",
   "execution_count": null,
   "metadata": {},
   "outputs": [],
   "source": []
  },
  {
   "cell_type": "code",
   "execution_count": null,
   "metadata": {},
   "outputs": [],
   "source": []
  },
  {
   "cell_type": "code",
   "execution_count": null,
   "metadata": {},
   "outputs": [],
   "source": []
  },
  {
   "cell_type": "code",
   "execution_count": 62,
   "metadata": {},
   "outputs": [],
   "source": []
  },
  {
   "cell_type": "code",
   "execution_count": null,
   "metadata": {},
   "outputs": [],
   "source": []
  },
  {
   "cell_type": "code",
   "execution_count": null,
   "metadata": {},
   "outputs": [],
   "source": []
  },
  {
   "cell_type": "code",
   "execution_count": null,
   "metadata": {},
   "outputs": [],
   "source": []
  },
  {
   "cell_type": "code",
   "execution_count": null,
   "metadata": {},
   "outputs": [],
   "source": []
  },
  {
   "cell_type": "code",
   "execution_count": null,
   "metadata": {},
   "outputs": [],
   "source": []
  },
  {
   "cell_type": "code",
   "execution_count": null,
   "metadata": {},
   "outputs": [],
   "source": [
    "\n",
    "    "
   ]
  },
  {
   "cell_type": "code",
   "execution_count": null,
   "metadata": {},
   "outputs": [],
   "source": []
  },
  {
   "cell_type": "code",
   "execution_count": null,
   "metadata": {},
   "outputs": [],
   "source": []
  },
  {
   "cell_type": "code",
   "execution_count": null,
   "metadata": {},
   "outputs": [],
   "source": []
  },
  {
   "cell_type": "code",
   "execution_count": null,
   "metadata": {},
   "outputs": [],
   "source": []
  },
  {
   "cell_type": "code",
   "execution_count": null,
   "metadata": {},
   "outputs": [],
   "source": []
  },
  {
   "cell_type": "code",
   "execution_count": null,
   "metadata": {},
   "outputs": [],
   "source": []
  }
 ],
 "metadata": {
  "kernelspec": {
   "display_name": "Python 2",
   "language": "python",
   "name": "python2"
  },
  "language_info": {
   "codemirror_mode": {
    "name": "ipython",
    "version": 2
   },
   "file_extension": ".py",
   "mimetype": "text/x-python",
   "name": "python",
   "nbconvert_exporter": "python",
   "pygments_lexer": "ipython2",
   "version": "2.7.15"
  }
 },
 "nbformat": 4,
 "nbformat_minor": 2
}
