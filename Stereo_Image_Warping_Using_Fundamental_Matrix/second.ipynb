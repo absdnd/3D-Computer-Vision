{
 "cells": [
  {
   "cell_type": "code",
   "execution_count": null,
   "metadata": {},
   "outputs": [],
   "source": [
    "import cv2\n",
    "from numpy import * \n"
   ]
  },
  {
   "cell_type": "code",
   "execution_count": null,
   "metadata": {},
   "outputs": [],
   "source": [
    "img1 = cv2.imread('1_1.jpg') \n",
    "img2 = cv2.imread('1_2.jpg')\n",
    "img1  = cv2.resize(img1,(0,0),fx = 0.2,fy = 0.2)\n",
    "img2  = cv2.resize(img2,(0,0),fx = 0.2,fy = 0.2)\n",
    "print img1.shape"
   ]
  },
  {
   "cell_type": "code",
   "execution_count": null,
   "metadata": {},
   "outputs": [],
   "source": [
    "gray1 = cv2.cvtColor(img1,cv2.COLOR_BGR2GRAY)\n",
    "gray2 = cv2.cvtColor(img2,cv2.COLOR_BGR2GRAY)"
   ]
  },
  {
   "cell_type": "code",
   "execution_count": null,
   "metadata": {},
   "outputs": [],
   "source": [
    "sift = cv2.xfeatures2d.SIFT_create()"
   ]
  },
  {
   "cell_type": "code",
   "execution_count": null,
   "metadata": {},
   "outputs": [],
   "source": [
    "def calc_norm(arr1, arr2): \n",
    "    return linalg.norm(arr1-arr2)"
   ]
  },
  {
   "cell_type": "code",
   "execution_count": null,
   "metadata": {},
   "outputs": [],
   "source": [
    "#Fundamental matrix from img1 to img2\n",
    "def Fundamental(img1,img2):\n",
    "    kp1, des1 = sift.detectAndCompute(img1,None)\n",
    "    kp2, des2 = sift.detectAndCompute(img2,None)\n",
    "    FLANN_INDEX_KDTREE = 0\n",
    "    index_params = dict(algorithm = FLANN_INDEX_KDTREE, trees = 5)\n",
    "    search_params = dict(checks=50)\n",
    "\n",
    "    flann = cv2.FlannBasedMatcher(index_params,search_params)\n",
    "    matches = flann.knnMatch(des1,des2,k=2)\n",
    "\n",
    "    good = []\n",
    "    pts1 = []\n",
    "    pts2 = []\n",
    "\n",
    "    # ratio test as per Lowe's paper\n",
    "    for i,(m,n) in enumerate(matches):\n",
    "        if m.distance < 0.8*n.distance:\n",
    "            good.append(m)\n",
    "            pts2.append(kp2[m.trainIdx].pt)\n",
    "            pts1.append(kp1[m.queryIdx].pt)\n",
    "\n",
    "    pts1 = int32(pts1)\n",
    "    pts2 = int32(pts2)\n",
    "    F, mask = cv2.findFundamentalMat(pts1,pts2,cv2.FM_LMEDS)\n",
    "    \n",
    "    return F\n"
   ]
  },
  {
   "cell_type": "code",
   "execution_count": null,
   "metadata": {},
   "outputs": [],
   "source": [
    "def epiline(pt2,F): \n",
    "    lines1 = cv2.computeCorrespondEpilines(pt2.reshape(-1,1,2), 2,F)\n",
    "    return lines1\n",
    "    "
   ]
  },
  {
   "cell_type": "code",
   "execution_count": null,
   "metadata": {},
   "outputs": [],
   "source": [
    "def createGaussianFilter(size,stdv):\n",
    "    if(size%2 == 1):\n",
    "        gaussian = zeros([size,size])\n",
    "        head = 1\n",
    "        mid = (size-1)/2\n",
    "        gaussian[mid,mid] = 1\n",
    "        for i in range(0,size-mid): \n",
    "            for j in range(0,size-mid):\n",
    "                power = (-i*i-j*j)/(2.*(stdv**2))\n",
    "                gaussian[mid+i,mid+j] = gaussian[mid,mid]*exp(power)\n",
    "                gaussian[mid-i,mid+j] = gaussian[mid,mid]*exp(power)\n",
    "                gaussian[mid+i,mid-j] = gaussian[mid,mid]*exp(power)\n",
    "                gaussian[mid-i,mid-j] = gaussian[mid,mid]*exp(power)\n",
    "        \n",
    "    if(size%2 == 0): \n",
    "        gaussian = zeros([size,size])\n",
    "        head = 1\n",
    "        mid = size/2\n",
    "        gaussian[mid,mid] = 1\n",
    "        for i in range(-size/2,size/2): \n",
    "            for j in range(-size/2,size/2): \n",
    "                power = (-i*i - j*j)/(2.*(stdv**2))\n",
    "                gaussian[mid+i,mid+j] = gaussian[mid,mid]*exp(power)        \n",
    "        \n",
    "    normalized =  gaussian/sum(gaussian)\n",
    "    return normalized"
   ]
  },
  {
   "cell_type": "code",
   "execution_count": null,
   "metadata": {},
   "outputs": [],
   "source": [
    "def allpoints(img1): \n",
    "    rows,cols = img1.shape[0],img1.shape[1]\n",
    "    points = []\n",
    "    for i in range(rows):\n",
    "        for j in range(cols): \n",
    "            points.append([j,i])\n",
    "    return asarray(points)\n",
    "            "
   ]
  },
  {
   "cell_type": "code",
   "execution_count": null,
   "metadata": {},
   "outputs": [],
   "source": [
    "def createGaussianFilter(size,stdv):\n",
    "    if(size%2 == 1):\n",
    "        gaussian = zeros([size,size])\n",
    "        head = 1\n",
    "        mid = (size-1)/2\n",
    "        gaussian[mid,mid] = 1\n",
    "        for i in range(0,size-mid): \n",
    "            for j in range(0,size-mid):\n",
    "                power = (-i*i-j*j)/(2.*(stdv**2))\n",
    "                gaussian[mid+i,mid+j] = gaussian[mid,mid]*exp(power)\n",
    "                gaussian[mid-i,mid+j] = gaussian[mid,mid]*exp(power)\n",
    "                gaussian[mid+i,mid-j] = gaussian[mid,mid]*exp(power)\n",
    "                gaussian[mid-i,mid-j] = gaussian[mid,mid]*exp(power)\n",
    "        \n",
    "    if(size%2 == 0): \n",
    "        gaussian = zeros([size,size])\n",
    "        head = 1\n",
    "        mid = size/2\n",
    "        gaussian[mid,mid] = 1\n",
    "        for i in range(-size/2,size/2): \n",
    "            for j in range(-size/2,size/2): \n",
    "                power = (-i*i - j*j)/(2.*(stdv**2))\n",
    "                gaussian[mid+i,mid+j] = gaussian[mid,mid]*exp(power)        \n",
    "        \n",
    "    normalized =  gaussian/sum(gaussian)\n",
    "    return normalized"
   ]
  },
  {
   "cell_type": "code",
   "execution_count": null,
   "metadata": {},
   "outputs": [],
   "source": [
    "F = Fundamental(img1,img2)\n",
    "pts = allpoints(img2)\n",
    "lines = epiline(pts,F)\n",
    "rows,cols = img2.shape[0],img2.shape[1]\n",
    "final = zeros([rows,cols,3])\n",
    "gaussi =  createGaussianFilter(4,4/6.)\n",
    "gauss = zeros([4,4,3])\n",
    "gauss[:,:,0] = gaussi\n",
    "gauss[:,:,1] = gaussi\n",
    "gauss[:,:,2] = gaussi\n",
    "for i in range(len(pts)):\n",
    "    if(i%1000==0):\n",
    "        print i\n",
    "    pt = pts[i]\n",
    "    r = lines[i][0]\n",
    "    x0 = 2\n",
    "    x1 = cols-2\n",
    "    if(pt[1]>=2 and pt[1]<rows-2 and pt[0]>=2 and pt[0]<cols-2):\n",
    "        neigh1 = img2[pt[1]-2:pt[1]+2,pt[0]-2:pt[0]+2,:]\n",
    "        neigh1 = gauss*neigh1\n",
    "        neigh1 = neigh1.reshape(48)\n",
    "        mini = 1000000\n",
    "        p,q = 0,0\n",
    "        for x in range(x0,x1,1):\n",
    "            y = -int((r[2]+r[0]*x)/r[1])\n",
    "            if(y>=2 and y<rows-2): \n",
    "                neigh2 = img1[y-2:y+2,x-2:x+2,:]\n",
    "                neigh2 = gauss*neigh2\n",
    "                neigh2 = neigh2.reshape(48)\n",
    "                norm = calc_norm(neigh1,neigh2) \n",
    "                if(norm<mini): \n",
    "                    mini = norm\n",
    "                    p,q = x,y\n",
    "\n",
    "        final[pt[1],pt[0]] = img1[q,p]\n"
   ]
  },
  {
   "cell_type": "code",
   "execution_count": null,
   "metadata": {},
   "outputs": [],
   "source": [
    "cv2.imshow('final',final.astype('uint8'))\n",
    "cv2.waitKey(0)"
   ]
  },
  {
   "cell_type": "code",
   "execution_count": null,
   "metadata": {},
   "outputs": [],
   "source": []
  },
  {
   "cell_type": "code",
   "execution_count": null,
   "metadata": {},
   "outputs": [],
   "source": []
  },
  {
   "cell_type": "code",
   "execution_count": null,
   "metadata": {},
   "outputs": [],
   "source": []
  },
  {
   "cell_type": "code",
   "execution_count": null,
   "metadata": {},
   "outputs": [],
   "source": []
  },
  {
   "cell_type": "code",
   "execution_count": null,
   "metadata": {},
   "outputs": [],
   "source": [
    "\n",
    "    \n",
    "    "
   ]
  },
  {
   "cell_type": "code",
   "execution_count": null,
   "metadata": {
    "scrolled": true
   },
   "outputs": [],
   "source": [
    "\n"
   ]
  },
  {
   "cell_type": "code",
   "execution_count": null,
   "metadata": {},
   "outputs": [],
   "source": []
  },
  {
   "cell_type": "code",
   "execution_count": null,
   "metadata": {},
   "outputs": [],
   "source": []
  },
  {
   "cell_type": "code",
   "execution_count": null,
   "metadata": {},
   "outputs": [],
   "source": []
  },
  {
   "cell_type": "code",
   "execution_count": null,
   "metadata": {},
   "outputs": [],
   "source": []
  },
  {
   "cell_type": "code",
   "execution_count": null,
   "metadata": {},
   "outputs": [],
   "source": []
  },
  {
   "cell_type": "code",
   "execution_count": null,
   "metadata": {},
   "outputs": [],
   "source": []
  },
  {
   "cell_type": "code",
   "execution_count": null,
   "metadata": {},
   "outputs": [],
   "source": []
  },
  {
   "cell_type": "code",
   "execution_count": null,
   "metadata": {},
   "outputs": [],
   "source": []
  },
  {
   "cell_type": "code",
   "execution_count": null,
   "metadata": {},
   "outputs": [],
   "source": []
  },
  {
   "cell_type": "code",
   "execution_count": null,
   "metadata": {},
   "outputs": [],
   "source": []
  },
  {
   "cell_type": "code",
   "execution_count": null,
   "metadata": {},
   "outputs": [],
   "source": []
  },
  {
   "cell_type": "code",
   "execution_count": null,
   "metadata": {},
   "outputs": [],
   "source": []
  },
  {
   "cell_type": "code",
   "execution_count": null,
   "metadata": {},
   "outputs": [],
   "source": []
  },
  {
   "cell_type": "code",
   "execution_count": null,
   "metadata": {},
   "outputs": [],
   "source": []
  },
  {
   "cell_type": "code",
   "execution_count": null,
   "metadata": {},
   "outputs": [],
   "source": []
  },
  {
   "cell_type": "code",
   "execution_count": null,
   "metadata": {},
   "outputs": [],
   "source": []
  },
  {
   "cell_type": "code",
   "execution_count": null,
   "metadata": {},
   "outputs": [],
   "source": []
  },
  {
   "cell_type": "code",
   "execution_count": null,
   "metadata": {},
   "outputs": [],
   "source": []
  },
  {
   "cell_type": "code",
   "execution_count": null,
   "metadata": {},
   "outputs": [],
   "source": []
  },
  {
   "cell_type": "code",
   "execution_count": null,
   "metadata": {},
   "outputs": [],
   "source": []
  },
  {
   "cell_type": "code",
   "execution_count": null,
   "metadata": {},
   "outputs": [],
   "source": []
  }
 ],
 "metadata": {
  "kernelspec": {
   "display_name": "Python 2",
   "language": "python",
   "name": "python2"
  },
  "language_info": {
   "codemirror_mode": {
    "name": "ipython",
    "version": 2
   },
   "file_extension": ".py",
   "mimetype": "text/x-python",
   "name": "python",
   "nbconvert_exporter": "python",
   "pygments_lexer": "ipython2",
   "version": "2.7.15"
  }
 },
 "nbformat": 4,
 "nbformat_minor": 2
}
